{
  "nbformat": 4,
  "nbformat_minor": 0,
  "metadata": {
    "colab": {
      "name": "Amazons.ipynb",
      "version": "0.3.2",
      "provenance": [],
      "collapsed_sections": [
        "ahCm7WauEB4p"
      ]
    },
    "kernelspec": {
      "name": "python3",
      "display_name": "Python 3"
    }
  },
  "cells": [
    {
      "cell_type": "code",
      "metadata": {
        "id": "3dOsyZlbZnET",
        "colab_type": "code",
        "colab": {}
      },
      "source": [
        "import copy\n",
        "import pydot\n",
        "from IPython.display import Image, display\n",
        "import queue\n",
        "import numpy as np\n",
        "import math\n",
        "import random"
      ],
      "execution_count": 0,
      "outputs": []
    },
    {
      "cell_type": "markdown",
      "metadata": {
        "id": "ahCm7WauEB4p",
        "colab_type": "text"
      },
      "source": [
        "## Este es un metodo para generar todos los movimientos posibles de una reina en x,y\n",
        "Para acceder al tablero las coordenadas van en orden y,x"
      ]
    },
    {
      "cell_type": "code",
      "metadata": {
        "id": "fibRVUu8jah9",
        "colab_type": "code",
        "colab": {}
      },
      "source": [
        "def movimientosPosibles(tab, X, Y):\n",
        "  x=X+1\n",
        "  y=Y+1\n",
        "  lista=[]\n",
        "  while x<len(tab[0]) and y<len(tab):\n",
        "    if(tab[y][x] == 0):\n",
        "      lista.append([x,y])\n",
        "    else:\n",
        "      break\n",
        "    x=x+1\n",
        "    y=y+1\n",
        "  \n",
        "  x=X+1\n",
        "  y=Y-1\n",
        "  while x<len(tab[0]) and y>=0:\n",
        "    if(tab[y][x] == 0):\n",
        "      lista.append([x,y])\n",
        "    else:\n",
        "      break\n",
        "    x=x+1\n",
        "    y=y-1\n",
        "    \n",
        "  x=X-1\n",
        "  y=Y+1\n",
        "  while x>=0 and y<len(tab):\n",
        "    if(tab[y][x] == 0):\n",
        "      lista.append([x,y])\n",
        "    else:\n",
        "      break\n",
        "    x=x-1\n",
        "    y=y+1\n",
        "\n",
        "  x=X-1\n",
        "  y=Y-1\n",
        "  while x>=0 and y>=0:\n",
        "    if(tab[y][x] == 0):\n",
        "      lista.append([x,y])\n",
        "    else:\n",
        "      break\n",
        "    x=x-1\n",
        "    y=y-1\n",
        "    \n",
        "  x=X-1\n",
        "  y=Y\n",
        "  while x>=0:\n",
        "    if(tab[y][x] == 0):\n",
        "      lista.append([x,y])\n",
        "    else:\n",
        "      break\n",
        "    x=x-1\n",
        "    \n",
        "  x=X+1\n",
        "  y=Y\n",
        "  while x<len(tab[0]):\n",
        "    if(tab[y][x] == 0):\n",
        "      lista.append([x,y])\n",
        "    else:\n",
        "      break\n",
        "    x=x+1\n",
        "    \n",
        "  x=X\n",
        "  y=Y-1\n",
        "  while y>=0:\n",
        "    if(tab[y][x] == 0):\n",
        "      lista.append([x,y])\n",
        "    else:\n",
        "      break\n",
        "    y=y-1\n",
        "    \n",
        "  x=X\n",
        "  y=Y+1\n",
        "  while y<len(tab):\n",
        "    if(tab[y][x] == 0):\n",
        "      lista.append([x,y])\n",
        "    else:\n",
        "      break\n",
        "    y=y+1\n",
        "  return lista\n"
      ],
      "execution_count": 0,
      "outputs": []
    },
    {
      "cell_type": "markdown",
      "metadata": {
        "id": "McoFGBTxml8H",
        "colab_type": "text"
      },
      "source": [
        ""
      ]
    },
    {
      "cell_type": "markdown",
      "metadata": {
        "id": "1Y621AEEuf1U",
        "colab_type": "text"
      },
      "source": [
        "## Generar todos los movimientos de una reina contando en cuenta que no visitemos los que ya fueron visitados:"
      ]
    },
    {
      "cell_type": "code",
      "metadata": {
        "id": "XuqUxqcqYz4o",
        "colab_type": "code",
        "colab": {}
      },
      "source": [
        "def movimientosPosiblesDistancias(tab, tab2, X, Y):\n",
        "  x=X+1\n",
        "  y=Y+1\n",
        "  lista=queue.Queue(maxsize=36)\n",
        "  while x<len(tab[0]) and y<len(tab):\n",
        "    if(tab[y][x] == 0):\n",
        "      if(tab2[y][x] == math.inf):\n",
        "        lista.put([x,y])\n",
        "    else:\n",
        "      break\n",
        "    x=x+1\n",
        "    y=y+1\n",
        "  \n",
        "  x=X+1\n",
        "  y=Y-1\n",
        "  while x<len(tab[0]) and y>=0:\n",
        "    if(tab[y][x] == 0):\n",
        "      if(tab2[y][x] == math.inf):\n",
        "        lista.put([x,y])\n",
        "    else:\n",
        "      break\n",
        "    x=x+1\n",
        "    y=y-1\n",
        "    \n",
        "  x=X-1\n",
        "  y=Y+1\n",
        "  while x>=0 and y<len(tab):\n",
        "    if(tab[y][x] == 0):\n",
        "      if(tab2[y][x] == math.inf):\n",
        "        lista.put([x,y])\n",
        "    else:\n",
        "      break\n",
        "    x=x-1\n",
        "    y=y+1\n",
        "\n",
        "  x=X-1\n",
        "  y=Y-1\n",
        "  while x>=0 and y>=0:\n",
        "    if(tab[y][x] == 0):\n",
        "      if(tab2[y][x] == math.inf):\n",
        "        lista.put([x,y])\n",
        "    else:\n",
        "      break\n",
        "    x=x-1\n",
        "    y=y-1\n",
        "    \n",
        "  x=X-1\n",
        "  y=Y\n",
        "  while x>=0:\n",
        "    if(tab[y][x] == 0):\n",
        "      if(tab2[y][x] == math.inf):\n",
        "        lista.put([x,y])\n",
        "    else:\n",
        "      break\n",
        "    x=x-1\n",
        "    \n",
        "  x=X+1\n",
        "  y=Y\n",
        "  while x<len(tab[0]):\n",
        "    if(tab[y][x] == 0):\n",
        "      if(tab2[y][x] == math.inf):\n",
        "       lista.put([x,y])\n",
        "    else:\n",
        "      break\n",
        "    x=x+1\n",
        "    \n",
        "  x=X\n",
        "  y=Y-1\n",
        "  while y>=0:\n",
        "    if(tab[y][x] == 0):\n",
        "      if(tab2[y][x] == math.inf):\n",
        "        lista.put([x,y])\n",
        "    else:\n",
        "      break\n",
        "    y=y-1\n",
        "    \n",
        "  x=X\n",
        "  y=Y+1\n",
        "  while y<len(tab):\n",
        "    if(tab[y][x] == 0):\n",
        "      if(tab2[y][x] == math.inf):\n",
        "        lista.put([x,y])\n",
        "    else:\n",
        "      break\n",
        "    y=y+1\n",
        "  return lista\n"
      ],
      "execution_count": 0,
      "outputs": []
    },
    {
      "cell_type": "markdown",
      "metadata": {
        "id": "ebIq251ZHyk1",
        "colab_type": "text"
      },
      "source": [
        "## Clase Nodo"
      ]
    },
    {
      "cell_type": "code",
      "metadata": {
        "id": "jqx1yYuDfVcm",
        "colab_type": "code",
        "outputId": "66f6ac05-518d-4b79-f665-636b5096786c",
        "colab": {
          "base_uri": "https://localhost:8080/",
          "height": 187
        }
      },
      "source": [
        "inicial = {'tab':[[0,2,0,0,0,0],[0,0,1,0,0,0],[-1,-1,-1,-1,-1,2],[0,0,0,0,0,0],[0,0,0,0,0,0],[0,0,1,0,0,0]],\n",
        "           'turno':True,\n",
        "           'posiciones X':[2,2,1,5],\n",
        "           'posiciones Y':[1,5,0,2],\n",
        "           'operador':None}\n",
        "inicial"
      ],
      "execution_count": 0,
      "outputs": [
        {
          "output_type": "execute_result",
          "data": {
            "text/plain": [
              "{'operador': None,\n",
              " 'posiciones X': [2, 2, 1, 5],\n",
              " 'posiciones Y': [1, 5, 0, 2],\n",
              " 'tab': [[0, 2, 0, 0, 0, 0],\n",
              "  [0, 0, 1, 0, 0, 0],\n",
              "  [-1, -1, -1, -1, -1, 2],\n",
              "  [0, 0, 0, 0, 0, 0],\n",
              "  [0, 0, 0, 0, 0, 0],\n",
              "  [0, 0, 1, 0, 0, 0]],\n",
              " 'turno': True}"
            ]
          },
          "metadata": {
            "tags": []
          },
          "execution_count": 4
        }
      ]
    },
    {
      "cell_type": "code",
      "metadata": {
        "id": "wx21CHT2a7aT",
        "colab_type": "code",
        "colab": {}
      },
      "source": [
        "class Node ():\n",
        "  def __init__(self,  state = inicial, operator=None, parent=None,objective=None):\n",
        "    self.state= state\n",
        "    self.children = []\n",
        "    self.parent=parent\n",
        "    self.operator=operator\n",
        "    self.level=0\n",
        "    self.path=None;\n",
        "  \n",
        "  def getState(self, index=0):\n",
        "    return self.state\n",
        "  \n",
        "  def __repr__(self):\n",
        "    return str(self.state) \n",
        "\n",
        "  def add_child(self, state, operator):\n",
        "    node=type(self)(state=state, operator=operator,parent=self)\n",
        "    node.level=node.parent.level+1\n",
        "    self.children.append(node)\n",
        "    return node\n",
        "  \n",
        "  def add_node_child(self, node):\n",
        "    node.level=node.parent.level+1\n",
        "    self.children.append(node)    \n",
        "    return node\n",
        "\n",
        "  #Devuelve todos los estados según los operadores aplicados\n",
        "  def getchildrens(self):\n",
        "    state=self.state\n",
        "    children = []\n",
        "    op=[]\n",
        "    #ver que reinas se van a mover segun el turno\n",
        "    if state['turno']:\n",
        "      index = [0, 1]\n",
        "    else:\n",
        "      index = [2, 3]\n",
        "    #Se itera primero sobre todas las reinas que se deben mover en el turno\n",
        "    for i in index:\n",
        "      X=state['posiciones X'][i]\n",
        "      Y=state['posiciones Y'][i]\n",
        "      l=movimientosPosibles(state['tab'], X, Y)\n",
        "      op.append([X,Y])\n",
        "      #Luego se itera sobre los movimientos posibles\n",
        "      for j in l:\n",
        "        newState=self.mover(i, j[0], j[1], copy.deepcopy(state))\n",
        "        l2=movimientosPosibles(newState['tab'], j[0], j[1])\n",
        "        op.append(j)\n",
        "        #por ultimo se itera sobre los posibles bloqueos\n",
        "        for k in l2:\n",
        "          endState=self.bloquear(k[0],k[1], copy.deepcopy(newState))\n",
        "          op.append(k)\n",
        "          endState['operador']=copy.deepcopy(op)\n",
        "          children.append(endState)\n",
        "          op.pop()\n",
        "        op.pop()\n",
        "      op.pop()\n",
        "\n",
        "    return children\n",
        "\n",
        "  def mover(self,i, X, Y, state):\n",
        "    x=state['posiciones X'][i]\n",
        "    y=state['posiciones Y'][i]\n",
        "    temp=state['tab'][y][x]\n",
        "    state['tab'][y][x]=0\n",
        "    state['tab'][Y][X]=temp\n",
        "    state['posiciones X'][i]=X\n",
        "    state['posiciones Y'][i]=Y\n",
        "    return state\n",
        "\n",
        "  def bloquear(self,X, Y, state):\n",
        "    state['tab'][Y][X]=-1\n",
        "    state['turno']= not state['turno']\n",
        "    return state\n",
        "\n",
        "\n",
        "  def getPath(self):\n",
        "    n=self\n",
        "    result=[]\n",
        "    while n is not None:\n",
        "      result.append(n)\n",
        "      n=n.path\n",
        "    return result\n",
        "    \n",
        "  \n",
        "  def heuristic(self):\n",
        "    ans = 0\n",
        "    dist1=self.distancias(0)\n",
        "    dist2=self.distancias(1)\n",
        "    dist3=self.distancias(2)\n",
        "    dist4=self.distancias(3)\n",
        "    for i in range(len(self.state['tab'])):\n",
        "      for j in range(len(self.state['tab'][0])):\n",
        "        if self.state['tab'][i][j] == 0:\n",
        "          arr = self.proporcion(dist1[i][j],dist2[i][j],dist3[i][j],dist4[i][j])\n",
        "          ans = ans + arr[0] + arr[1] - arr[2] - arr[3]\n",
        "    return ans\n",
        "\n",
        "  def distancias(self, i):\n",
        "    tab=self.state['tab']\n",
        "    X=self.state['posiciones X'][i]\n",
        "    Y=self.state['posiciones Y'][i]\n",
        "    #esto, hay que ver si se puede inicializar de diferente manera\n",
        "    dist=[[math.inf, math.inf, math.inf, math.inf, math.inf, math.inf],\n",
        "          [math.inf, math.inf, math.inf, math.inf, math.inf, math.inf],\n",
        "          [math.inf, math.inf, math.inf, math.inf, math.inf, math.inf],\n",
        "          [math.inf, math.inf, math.inf, math.inf, math.inf, math.inf],\n",
        "          [math.inf, math.inf, math.inf, math.inf, math.inf, math.inf],\n",
        "          [math.inf, math.inf, math.inf, math.inf, math.inf, math.inf]]\n",
        "    Q = queue.Queue(maxsize=36)\n",
        "    Q.put([X,Y])\n",
        "    dist[Y][X]=0\n",
        "    while(not Q.empty()):\n",
        "      aux=Q.get()\n",
        "      adj=movimientosPosiblesDistancias(tab, dist, aux[0], aux[1])\n",
        "      while (not adj.empty()):\n",
        "        aux2=adj.get()\n",
        "        dist[aux2[1]][aux2[0]]=dist[aux[1]][aux[0]]+1\n",
        "        Q.put(aux2)\n",
        "    return dist\n",
        "\n",
        "  \n",
        "  def proporcion(self,a, b, c, d):\n",
        "    if a == math.inf and b == math.inf and c == math.inf and d == math.inf:\n",
        "      return [0,0,0,0]\n",
        "    else:\n",
        "      norm=1/a+1/b+1/c+1/d\n",
        "      return [1/a/norm, 1/b/norm, 1/c/norm, 1/d/norm]"
      ],
      "execution_count": 0,
      "outputs": []
    },
    {
      "cell_type": "code",
      "metadata": {
        "id": "ja_tVXelbMcM",
        "colab_type": "code",
        "colab": {}
      },
      "source": [
        "def alphaBetaMinimax(node, depth,maxi, alpha=-math.inf, beta=math.inf):\n",
        "  fin=isFinal(node)\n",
        "  if depth == 0 or fin:\n",
        "    return node.heuristic();\n",
        "  \n",
        "  children=node.getchildrens()\n",
        "  \n",
        "  if maxi:\n",
        "    value = -math.inf\n",
        "    for i,child in enumerate(children):\n",
        "      if child is not None:\n",
        "        newChild=node.add_child(state= child, operator=i)\n",
        "        newValue=alphaBetaMinimax(newChild, depth-1, False, alpha, beta)\n",
        "        if value < newValue:\n",
        "          value=newValue\n",
        "          node.path=newChild\n",
        "        if alpha < newValue:\n",
        "          alpha=newValue\n",
        "      if beta <= alpha:\n",
        "        break\n",
        "    return value;\n",
        "  else:\n",
        "    value = math.inf\n",
        "    for i,child in enumerate(children):\n",
        "      if child is not None:\n",
        "        newChild=node.add_child(state= child, operator=i)\n",
        "        newValue=alphaBetaMinimax(newChild, depth-1, True, alpha, beta)\n",
        "        if value > newValue:\n",
        "          value=newValue\n",
        "          node.path=newChild\n",
        "        if beta > newValue:\n",
        "          beta=newValue\n",
        "      if beta <= alpha:\n",
        "        break\n",
        "    return value;\n",
        "\n",
        "def isFinal(node):\n",
        "  return False"
      ],
      "execution_count": 0,
      "outputs": []
    },
    {
      "cell_type": "markdown",
      "metadata": {
        "id": "dProHhmKHssv",
        "colab_type": "text"
      },
      "source": [
        "## Probando el nodo"
      ]
    },
    {
      "cell_type": "code",
      "metadata": {
        "id": "XlHzyqMRIJ5C",
        "colab_type": "code",
        "colab": {}
      },
      "source": [
        "N=Node()"
      ],
      "execution_count": 0,
      "outputs": []
    },
    {
      "cell_type": "code",
      "metadata": {
        "id": "gzEhqG5_rySj",
        "colab_type": "code",
        "outputId": "4dfca277-1bb7-4965-eeb0-d0e7fa854358",
        "colab": {
          "base_uri": "https://localhost:8080/",
          "height": 71
        }
      },
      "source": [
        "print(N.getState())\n",
        "N.heuristic()"
      ],
      "execution_count": 0,
      "outputs": [
        {
          "output_type": "stream",
          "text": [
            "{'tab': [[0, 2, 0, 0, 0, 0], [0, 0, 1, 0, 0, 0], [-1, -1, -1, -1, -1, 2], [0, 0, 0, 0, 0, 0], [0, 0, 0, 0, 0, 0], [0, 0, 1, 0, 0, 0]], 'turno': True, 'posiciones X': [2, 2, 1, 5], 'posiciones Y': [1, 5, 0, 2], 'operador': None}\n"
          ],
          "name": "stdout"
        },
        {
          "output_type": "execute_result",
          "data": {
            "text/plain": [
              "-0.3825396825396838"
            ]
          },
          "metadata": {
            "tags": []
          },
          "execution_count": 8
        }
      ]
    },
    {
      "cell_type": "code",
      "metadata": {
        "id": "CTf8yPwHuKWK",
        "colab_type": "code",
        "outputId": "3ef607cd-9be3-451c-f109-a13d61990035",
        "colab": {
          "base_uri": "https://localhost:8080/",
          "height": 34
        }
      },
      "source": [
        "alphaBetaMinimax(N,2,True)\n"
      ],
      "execution_count": 0,
      "outputs": [
        {
          "output_type": "execute_result",
          "data": {
            "text/plain": [
              "12.333333333333334"
            ]
          },
          "metadata": {
            "tags": []
          },
          "execution_count": 11
        }
      ]
    },
    {
      "cell_type": "code",
      "metadata": {
        "id": "FgtFB9Up6D2-",
        "colab_type": "code",
        "outputId": "a29e06e2-17ce-46d8-886f-87b984dffc3e",
        "colab": {
          "base_uri": "https://localhost:8080/",
          "height": 88
        }
      },
      "source": [
        "N.getPath()"
      ],
      "execution_count": 0,
      "outputs": [
        {
          "output_type": "execute_result",
          "data": {
            "text/plain": [
              "[{'tab': [[0, 2, 0, 0, 0, 0], [0, 0, 1, 0, 0, 0], [-1, -1, -1, -1, -1, 2], [0, 0, 0, 0, 0, 0], [0, 0, 0, 0, 0, 0], [0, 0, 1, 0, 0, 0]], 'turno': True, 'posiciones X': [2, 2, 1, 5], 'posiciones Y': [1, 5, 0, 2], 'operador': None},\n",
              " {'tab': [[0, 2, 0, 0, 0, 0], [0, 0, 1, 0, 0, 0], [-1, -1, -1, -1, -1, 2], [0, 0, 0, 0, 1, -1], [0, 0, 0, 0, 0, 0], [0, 0, 0, 0, 0, 0]], 'turno': False, 'posiciones X': [2, 4, 1, 5], 'posiciones Y': [1, 3, 0, 2], 'operador': [[2, 5], [4, 3], [5, 3]]},\n",
              " {'tab': [[0, 0, 0, 2, 0, 0], [0, 0, 1, -1, 0, 0], [-1, -1, -1, -1, -1, 2], [0, 0, 0, 0, 1, -1], [0, 0, 0, 0, 0, 0], [0, 0, 0, 0, 0, 0]], 'turno': True, 'posiciones X': [2, 4, 3, 5], 'posiciones Y': [1, 3, 0, 2], 'operador': [[1, 0], [3, 0], [3, 1]]}]"
            ]
          },
          "metadata": {
            "tags": []
          },
          "execution_count": 10
        }
      ]
    }
  ]
}